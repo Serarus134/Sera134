{
  "nbformat": 4,
  "nbformat_minor": 0,
  "metadata": {
    "colab": {
      "provenance": [],
      "authorship_tag": "ABX9TyNAHcnJNVTImgxFcl0vrpjA",
      "include_colab_link": true
    },
    "kernelspec": {
      "name": "python3",
      "display_name": "Python 3"
    },
    "language_info": {
      "name": "python"
    }
  },
  "cells": [
    {
      "cell_type": "markdown",
      "metadata": {
        "id": "view-in-github",
        "colab_type": "text"
      },
      "source": [
        "<a href=\"https://colab.research.google.com/github/Serarus134/Sera134/blob/main/Untitled0.ipynb\" target=\"_parent\"><img src=\"https://colab.research.google.com/assets/colab-badge.svg\" alt=\"Open In Colab\"/></a>"
      ]
    },
    {
      "cell_type": "code",
      "execution_count": 5,
      "metadata": {
        "colab": {
          "base_uri": "https://localhost:8080/"
        },
        "id": "EQvgMyDopo7w",
        "outputId": "db69ac2e-9b2a-4cd0-b1ed-b1ce51154af2"
      },
      "outputs": [
        {
          "output_type": "stream",
          "name": "stdout",
          "text": [
            "Введите число: 0\n",
            "Нулевое число\n",
            "Число не является четным\n"
          ]
        }
      ],
      "source": [
        "a=int(input('Введите число: '))\n",
        "if a<0:\n",
        "   print('отрицательное число')\n",
        "if a==0:\n",
        "   print('Нулевое число')\n",
        "if a>0 and a%2==0:\n",
        "   print('положительное четное число')\n",
        "else:\n",
        "   print('Число не является четным')"
      ]
    },
    {
      "cell_type": "code",
      "source": [
        "slovo = input('Введите слово с гласными буквами: ')\n",
        "\n",
        "eg=slovo.count('e') # считает количество гласных e\n",
        "\n",
        "ag=slovo.count('a') # считает количество гласных a\n",
        "\n",
        "ig=slovo.count('i') # считает количество гласных i\n",
        "\n",
        "ug=slovo.count('u') # считает количество гласных u\n",
        "\n",
        "og=slovo.count('o') # считает количество гласных o\n",
        "\n",
        "schetglas=eg+ag+ig+ug+og # суммирует гласные\n",
        "\n",
        "print(\"всего гласных\",schetglas) #выводит количество гласных\n",
        "\n",
        "print(\"всего согласных\",len(slovo)-schetglas)  # считает сколько букв в слове и минусует от общего количества букв гласные, выводит количество согласных\n",
        "\n",
        "if (eg==0):\n",
        "\n",
        "  print (\"гласной e в слове False\")\n",
        "\n",
        "else:\n",
        "\n",
        "  print(\"e=\",eg)\n",
        "\n",
        "if (ug==0):\n",
        "\n",
        "  print (\"гласной u в слове False\")\n",
        "\n",
        "else:\n",
        "\n",
        "  print(\"u=\",ug)\n",
        "\n",
        "if (og==0):\n",
        "\n",
        "   print (\"гласной o в слове False\")\n",
        "\n",
        "else:\n",
        "\n",
        "  print(\"o=\",og)\n",
        "\n",
        "if (ag==0):\n",
        "\n",
        "  print (\"гласной a в слове False\")\n",
        "\n",
        "else:\n",
        "\n",
        "  print(\"a=\",ag)\n",
        "\n",
        "if (ig==0):\n",
        "\n",
        "  print (\"гласной i в слове False\")\n",
        "\n",
        "else:\n",
        "\n",
        "  print(\"i=\",ig)"
      ],
      "metadata": {
        "colab": {
          "base_uri": "https://localhost:8080/"
        },
        "id": "E7LwjOr7xW7u",
        "outputId": "2b4dcdc8-404f-4b13-9275-5e397fc02cb9"
      },
      "execution_count": 7,
      "outputs": [
        {
          "output_type": "stream",
          "name": "stdout",
          "text": [
            "Введите слово с гласными буквами: sdfhjk\n",
            "всего гласных 0\n",
            "всего согласных 6\n",
            "гласной e в слове False\n",
            "гласной u в слове False\n",
            "гласной o в слове False\n",
            "гласной a в слове False\n",
            "гласной i в слове False\n"
          ]
        }
      ]
    },
    {
      "cell_type": "code",
      "source": [
        "x=int(input('минимальная сумма инвестиций ' ) )\n",
        "Mike=int(input('Майкл '))\n",
        "Ivan=int(input('Иван '))\n",
        "if Mike>0 and Ivan==0:\n",
        "  print ('Mike')\n",
        "if Ivan>0 and Mike==0:\n",
        "  print('Ivan')\n",
        "if Ivan>0 and Mike>0 and Ivan+Mike>=x:\n",
        "  print(1)\n",
        "if Ivan==0 and Mike==0 :\n",
        "  print (0)\n"
    
